{
 "cells": [
  {
   "cell_type": "markdown",
   "metadata": {},
   "source": [
    "## Text Translator\n",
    "This notebook demonstrates how to use an open-source language model from HuggingFace to summarize and translate text. The goal is to provide an easy-to-follow guide for setting up and using a translation pipeline."
   ]
  },
  {
   "cell_type": "markdown",
   "metadata": {},
   "source": [
    "### Credits\n",
    "- DeepLearning.AI\n",
    "- HuggingFace"
   ]
  },
  {
   "cell_type": "markdown",
   "metadata": {},
   "source": [
    "### Install Necessary Libraries\n",
    "To get started, you need to install the required libraries. Run the following cell to install `transformers` and `torch`."
   ]
  },
  {
   "cell_type": "markdown",
   "metadata": {},
   "source": [
    "```\n",
    "!pip install transformers torch\n",
    "```"
   ]
  },
  {
   "cell_type": "markdown",
   "metadata": {},
   "source": [
    "### Suppress Warning Messages\n",
    "\n",
    "To keep the output clean, we will suppress warning messages using the following code:"
   ]
  },
  {
   "cell_type": "code",
   "execution_count": 1,
   "metadata": {},
   "outputs": [],
   "source": [
    "from transformers.utils import logging\n",
    "logging.set_verbosity_error()"
   ]
  },
  {
   "cell_type": "markdown",
   "metadata": {},
   "source": [
    "### Building the  `Translation` pipeline \n",
    "\n",
    "In this section, we will build a translation pipeline using the Transformers library from HuggingFace. The pipeline will allow us to translate text from one language to another."
   ]
  },
  {
   "cell_type": "code",
   "execution_count": 2,
   "metadata": {},
   "outputs": [],
   "source": [
    "from transformers import pipeline\n",
    "import torch"
   ]
  },
  {
   "cell_type": "code",
   "execution_count": 3,
   "metadata": {},
   "outputs": [
    {
     "name": "stderr",
     "output_type": "stream",
     "text": [
      "/Users/khaledalrashidi/anaconda3/envs/ai_env/lib/python3.12/site-packages/huggingface_hub/file_download.py:1132: FutureWarning: `resume_download` is deprecated and will be removed in version 1.0.0. Downloads always resume when possible. If you want to force a new download, use `force_download=True`.\n",
      "  warnings.warn(\n"
     ]
    }
   ],
   "source": [
    "translator = pipeline(task='translation',\n",
    "                      model='facebook/nllb-200-distilled-600M',\n",
    "                      torch_dtype=torch.bfloat16)"
   ]
  },
  {
   "cell_type": "markdown",
   "metadata": {},
   "source": [
    "NLLB: No Language Left Behind: ['nllb-200-distilled-600M'](https://huggingface.co/facebook/nllb-200-distilled-600M)."
   ]
  },
  {
   "cell_type": "code",
   "execution_count": 4,
   "metadata": {},
   "outputs": [
    {
     "name": "stderr",
     "output_type": "stream",
     "text": [
      "<>:1: SyntaxWarning: invalid escape sequence '\\ '\n",
      "<>:1: SyntaxWarning: invalid escape sequence '\\ '\n",
      "/var/folders/ps/bsyj9bqj7110t7m59qgl73l40000gn/T/ipykernel_39261/4257480944.py:1: SyntaxWarning: invalid escape sequence '\\ '\n",
      "  text = \"\"\"\\\n"
     ]
    }
   ],
   "source": [
    "text = \"\"\"\\\n",
    "Very, very people run a marathon. \\ \n",
    "Some people have a big TV, and some other have a big library. \\\n",
    "The world is filled with amazing people. \\\n",
    "Every family has problems. \\\n",
    "It turns out self-respect is valued the most by humans!\n",
    "\"\"\""
   ]
  },
  {
   "cell_type": "markdown",
   "metadata": {},
   "source": [
    "#### Example 1: English to Arabic"
   ]
  },
  {
   "cell_type": "code",
   "execution_count": 5,
   "metadata": {},
   "outputs": [],
   "source": [
    "text_translated = translator(text,\n",
    "                             src_lang='eng_latn',\n",
    "                             tgt_lang='arz_Arab')"
   ]
  },
  {
   "cell_type": "markdown",
   "metadata": {},
   "source": [
    "To choose other languages, you can find the other language codes on the page: [Languages in FLORES-200](https://github.com/facebookresearch/flores/blob/main/flores200/README.md#languages-in-flores-200)\n",
    "\n",
    "For example:\n",
    "- Afrikaans: afr_Latn\n",
    "- Chinese: zho_Hans\n",
    "- Egyptian Arabic: arz_Arab\n",
    "- French: fra_Latn\n",
    "- German: deu_Latn\n",
    "- Greek: ell_Grek\n",
    "- Hindi: hin_Deva\n",
    "- Indonesian: ind_Latn\n",
    "- Italian: ita_Latn\n",
    "- Japanese: jpn_Jpan\n",
    "- Korean: kor_Hang\n",
    "- Persian: pes_Arab\n",
    "- Portuguese: por_Latn\n",
    "- Russian: rus_Cyrl\n",
    "- Spanish: spa_Latn\n",
    "- Swahili: swh_Latn\n",
    "- Thai: tha_Thai\n",
    "- Turkish: tur_Latn\n",
    "- Vietnamese: vie_Latn\n",
    "- Zulu: zul_Latn"
   ]
  },
  {
   "cell_type": "code",
   "execution_count": 6,
   "metadata": {},
   "outputs": [
    {
     "data": {
      "text/plain": [
       "[{'translation_text': 'فِي كُلِّ عَائِلَةٍ مَشَاكِلٌ ، فَيَكُونُ أَنَّ نَفْسَهُ تُكَرَّمُ مِنْ أَهْلِهَا ، وَلَهُمْ تَلَامٌ كَبِيرٌ ، وَلَهُمْ تَلَامٌ كَبِيرٌ ، وَلِلْعَالَمِ أُنَاسٌ مُتَعَجِّبُونَ ، وَلَهُمْ مَشَاكِلُ ، وَيَتَبَيَّنُ أَنَّهُمْ يُكْرِمُونَ نَفْسَهُمْ أَ'}]"
      ]
     },
     "execution_count": 6,
     "metadata": {},
     "output_type": "execute_result"
    }
   ],
   "source": [
    "text_translated"
   ]
  },
  {
   "cell_type": "markdown",
   "metadata": {},
   "source": [
    "#### Example 2: English to French"
   ]
  },
  {
   "cell_type": "code",
   "execution_count": 7,
   "metadata": {},
   "outputs": [
    {
     "name": "stderr",
     "output_type": "stream",
     "text": [
      "<>:1: SyntaxWarning: invalid escape sequence '\\ '\n",
      "<>:1: SyntaxWarning: invalid escape sequence '\\ '\n",
      "/var/folders/ps/bsyj9bqj7110t7m59qgl73l40000gn/T/ipykernel_39261/1265091097.py:1: SyntaxWarning: invalid escape sequence '\\ '\n",
      "  text = \"\"\"\\\n"
     ]
    }
   ],
   "source": [
    "text = \"\"\"\\\n",
    "The human body isn't designed to sit down, instead to move. \\ \n",
    "Reading books enables you to live more than one life. \\\n",
    "My friend is an amazing athelte. \\\n",
    "Love is so mysterious. \\\n",
    "Personal development is very important to the someone's sucess.\n",
    "\"\"\""
   ]
  },
  {
   "cell_type": "code",
   "execution_count": 8,
   "metadata": {},
   "outputs": [],
   "source": [
    "text_translated = translator(text,\n",
    "                             src_lang='eng_latn',\n",
    "                             tgt_lang='fra_Latn')"
   ]
  },
  {
   "cell_type": "code",
   "execution_count": 9,
   "metadata": {},
   "outputs": [
    {
     "data": {
      "text/plain": [
       "[{'translation_text': \"Le corps humain n'est pas conçu pour s'asseoir, mais pour bouger. \\\\ Lire des livres vous permet de vivre plus d'une vie. Mon ami est un athlète incroyable. L'amour est si mystérieux. Le développement personnel est très important pour le succès de quelqu'un. \"}]"
      ]
     },
     "execution_count": 9,
     "metadata": {},
     "output_type": "execute_result"
    }
   ],
   "source": [
    "text_translated"
   ]
  },
  {
   "cell_type": "markdown",
   "metadata": {},
   "source": [
    "### Feel free to add your own examples"
   ]
  },
  {
   "cell_type": "code",
   "execution_count": null,
   "metadata": {},
   "outputs": [],
   "source": []
  }
 ],
 "metadata": {
  "kernelspec": {
   "display_name": "ee541_env",
   "language": "python",
   "name": "python3"
  },
  "language_info": {
   "codemirror_mode": {
    "name": "ipython",
    "version": 3
   },
   "file_extension": ".py",
   "mimetype": "text/x-python",
   "name": "python",
   "nbconvert_exporter": "python",
   "pygments_lexer": "ipython3",
   "version": "3.12.4"
  }
 },
 "nbformat": 4,
 "nbformat_minor": 2
}
